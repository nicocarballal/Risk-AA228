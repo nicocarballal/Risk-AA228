{
 "cells": [
  {
   "cell_type": "code",
   "execution_count": 1,
   "metadata": {},
   "outputs": [],
   "source": [
    "from utils.game_map_class import GameMap\n",
    "from utils.game_team_class import GameTeam\n",
    "from utils.strategy_class import Strategy, RandomStrategy, RuleOfThumbStrategy, LookaheadRolloutStrategy\n",
    "from utils.map_setup_functions import setGameBoardRandom, initializeFullRiskMap\n",
    "from utils.heuristics import BST_Heuristic, EdgeWin, Countries_Heuristic, BSR_Heuristic\n",
    "import numpy as np\n",
    "import networkx as nx\n",
    "import matplotlib.pyplot as plt"
   ]
  },
  {
   "cell_type": "code",
   "execution_count": null,
   "metadata": {},
   "outputs": [],
   "source": [
    "full_risk_map = initializeFullRiskMap()\n",
    "team_names = [\"blue\", \"red\"]\n",
    "team_strategies = [RuleOfThumbStrategy, LookaheadRolloutStrategy]\n",
    "risk_map, teams = setGameBoardRandom(team_names, full_risk_map, team_strategies)\n",
    "#risk_map, teams = setGameBoardRandom(team_names, full_risk_map, RandomStrategy)"
   ]
  },
  {
   "cell_type": "code",
   "execution_count": null,
   "metadata": {},
   "outputs": [],
   "source": []
  },
  {
   "cell_type": "code",
   "execution_count": 2,
   "metadata": {},
   "outputs": [],
   "source": [
    "pos = {}\n",
    "\n",
    "pos['Alaska'] = (1,7)\n",
    "pos['North West Territory'] = (2,7)\n",
    "pos['Greenland'] = (3,7)\n",
    "pos['Iceland'] = (4,7)\n",
    "pos['Scandinavia'] = (5,7)\n",
    "pos['Alberta'] = (1,6)\n",
    "pos['Ontario'] = (2,6)\n",
    "pos['Quebec'] = (3,6)\n",
    "pos['Great Britain'] = (4,6)\n",
    "pos['Northern Europe'] = (5,6)\n",
    "pos['Ukraine'] = (6,6)\n",
    "pos['Ural'] = (7,6)\n",
    "pos['Siberia'] = (8,6)\n",
    "pos['Irkutsk'] = (9,6)\n",
    "pos['Japan'] = (10,6)\n",
    "pos['Yakutsk'] = (9,7)\n",
    "pos['Kamchatka'] = (10,7)\n",
    "pos['Western United States'] = (1,5)\n",
    "pos['Eastern United States'] = (2,5)\n",
    "pos['Western Europe'] = (4,5)\n",
    "pos['Southern Europe'] = (5,5)\n",
    "pos['Afghanistan'] = (7,5)\n",
    "pos['China'] = (8,5)\n",
    "pos['Mongolia'] = (9,5)\n",
    "pos['Central America'] = (1,4)\n",
    "pos['Middle East'] = (7, 4)\n",
    "pos['India'] = (8,4)\n",
    "pos['Siam'] = (9,4)\n",
    "pos['Venezuela'] = (1,3)\n",
    "pos['Brazil'] = (2,3)\n",
    "pos['North Africa'] = (4,4)\n",
    "pos['Egypt'] = (5,4)\n",
    "pos['Congo'] = (4,3)\n",
    "pos['East Africa'] = (5,3)\n",
    "pos['Peru'] = (1,2)\n",
    "pos['Argentina'] = (2,2)\n",
    "pos['South Africa'] = (4,2)\n",
    "pos['Madagascar'] = (5,2)\n",
    "pos['Indonesia'] = (9,3)\n",
    "pos['New Guinea'] = (10,3)\n",
    "pos['Western Australia'] = (9,2)\n",
    "pos['Eastern Australia'] = (10,2)"
   ]
  },
  {
   "cell_type": "code",
   "execution_count": null,
   "metadata": {},
   "outputs": [],
   "source": [
    "color_map = risk_map.getTeamColorMap()\n",
    "nx.draw(risk_map.graph, node_color = color_map, pos = pos, with_labels=True)"
   ]
  },
  {
   "cell_type": "code",
   "execution_count": null,
   "metadata": {},
   "outputs": [],
   "source": [
    "teams[0].addTroops('Ural', -3)\n",
    "\n",
    "teams[0].getNextMove(depth_ = 1, print_ = True)"
   ]
  },
  {
   "cell_type": "code",
   "execution_count": null,
   "metadata": {},
   "outputs": [],
   "source": [
    "import numpy as np"
   ]
  },
  {
   "cell_type": "code",
   "execution_count": null,
   "metadata": {},
   "outputs": [],
   "source": [
    "winners = np.load('winners.npy')[-100:]\n",
    "starters = np.load('starters.npy')[-100:]\n",
    "counts = np.load('winners_count.npy')"
   ]
  },
  {
   "cell_type": "code",
   "execution_count": null,
   "metadata": {},
   "outputs": [],
   "source": [
    "np.sum(winners == 'blue')/len(winners)"
   ]
  },
  {
   "cell_type": "code",
   "execution_count": null,
   "metadata": {},
   "outputs": [],
   "source": [
    "np.sum(starters == 'blue')/len(starters)"
   ]
  },
  {
   "cell_type": "code",
   "execution_count": null,
   "metadata": {},
   "outputs": [],
   "source": [
    "counts"
   ]
  },
  {
   "cell_type": "code",
   "execution_count": null,
   "metadata": {},
   "outputs": [],
   "source": [
    "blue = counts[np.where(winners == 'blue')[0]]"
   ]
  },
  {
   "cell_type": "code",
   "execution_count": null,
   "metadata": {},
   "outputs": [],
   "source": [
    "import numpy as np"
   ]
  },
  {
   "cell_type": "code",
   "execution_count": null,
   "metadata": {},
   "outputs": [],
   "source": [
    "bins"
   ]
  },
  {
   "cell_type": "code",
   "execution_count": null,
   "metadata": {},
   "outputs": [],
   "source": [
    "bins = np.linspace(5, 20, 15)\n",
    "plt.hist(blue, bins, label='blue', facecolor = 'blue', alpha = 0.75)\n",
    "plt.hist(red, bins, label='red', facecolor = 'red', alpha = 0.75)\n",
    "plt.xlabel('Number of turns until victory')\n",
    "plt.ylabel('Number of Occurrences')\n",
    "plt.title('Victories over 100 simulations')\n",
    "plt.legend({'RuleOfThumb', 'Lookahead w/ Rollouts'})"
   ]
  },
  {
   "cell_type": "code",
   "execution_count": null,
   "metadata": {},
   "outputs": [],
   "source": [
    "winners = np.load('winners-with-initial-troops.npy')\n",
    "starters = np.load('starters-with-initial-troops.npy')\n",
    "counts = np.load('winners_count-with-initial-troops.npy')\n",
    "red = counts[np.where(winners == 'red')[0]]\n",
    "blue = counts[np.where(winners == 'blue')[0]]\n",
    "bins = np.linspace(5, 20, 15)\n",
    "plt.hist(red, bins, label='red', facecolor = 'red', alpha = 0.75)\n",
    "plt.hist(blue, bins, label='blue', facecolor = 'blue', alpha = 0.75)\n",
    "plt.xlabel('Number of turns until victory')\n",
    "plt.ylabel('Number of Occurrences')\n",
    "plt.title('Victories over 100 simulations')\n",
    "plt.legend({'Lookahead w/ Rollouts', 'RuleOfThumb'})\n"
   ]
  },
  {
   "cell_type": "code",
   "execution_count": null,
   "metadata": {},
   "outputs": [],
   "source": [
    "winners = np.load('winners-look-vs-random.npy')\n",
    "starters = np.load('starters-look-vs-random.npy')\n",
    "counts = np.load('winners_count-look-vs-random.npy')\n",
    "red = counts[np.where(winners == 'red')[0]]\n",
    "blue = counts[np.where(winners == 'blue')[0]]\n",
    "bins = np.linspace(5, 20, 15)\n",
    "plt.hist(red, bins, label='red', facecolor = 'red', alpha = 0.75)\n",
    "plt.hist(blue, bins, label='blue', facecolor = 'blue', alpha = 0.75)\n",
    "plt.xlabel('Number of turns until victory')\n",
    "plt.ylabel('Number of Occurrences')\n",
    "plt.title('Victories over 100 simulations')\n",
    "plt.legend({'Rule of Thumb', 'Random'})\n"
   ]
  },
  {
   "cell_type": "markdown",
   "metadata": {},
   "source": [
    "# Lookout vs Rule of Thumb"
   ]
  },
  {
   "cell_type": "code",
   "execution_count": null,
   "metadata": {},
   "outputs": [],
   "source": [
    "winners = np.load('winners-with-continent-bonuses.npy')\n",
    "starters = np.load('starters-with-continent-bonuses.npy')\n",
    "counts = np.load('winners_count-with-continent-bonuses.npy')\n",
    "red = counts[np.where(winners == 'red')[0]]\n",
    "blue = counts[np.where(winners == 'blue')[0]]\n",
    "bins = np.linspace(5, 20, 15)\n",
    "\n",
    "MATLAB_blue = [0, 0.4470, 0.7410]\n",
    "MATLAB_orange = [0.8500, 0.3250, 0.0980]\n",
    "\n",
    "plt.hist(red, bins, label='red', facecolor = MATLAB_orange, alpha = .75)\n",
    "plt.hist(blue, bins, label='blue', facecolor = MATLAB_blue, alpha = .75)\n",
    "import matplotlib as mpl\n",
    "mpl.rc('font',family='Times New Roman')\n",
    "\n",
    "\n",
    "font_size = 12\n",
    "plt.xlabel('Number of turns until victory', fontsize = font_size)\n",
    "plt.ylabel('Number of Occurrences', fontsize = font_size)\n",
    "plt.title('Victories over 100 simulations', fontsize = font_size + 5)\n",
    "plt.legend({'Rule of Thumb', 'Lookahead w/ Rollouts'}, prop={'size': font_size})\n",
    "plt.savefig(\"./../images/rule-vs-forward.png\")"
   ]
  },
  {
   "cell_type": "code",
   "execution_count": null,
   "metadata": {},
   "outputs": [],
   "source": [
    "np.sum(starters == 'blue')"
   ]
  },
  {
   "cell_type": "code",
   "execution_count": null,
   "metadata": {},
   "outputs": [],
   "source": [
    "np.mean(blue)"
   ]
  },
  {
   "cell_type": "markdown",
   "metadata": {},
   "source": [
    "# Rule of Thumb vs Random"
   ]
  },
  {
   "cell_type": "code",
   "execution_count": 46,
   "metadata": {},
   "outputs": [
    {
     "data": {
      "image/png": "[encoded data removed]",
      "text/plain": [
       "<Figure size 432x288 with 1 Axes>"
      ]
     },
     "metadata": {
      "needs_background": "light"
     },
     "output_type": "display_data"
    }
   ],
   "source": [
    "winners = np.load('winners-rule-vs-random.npy')\n",
    "starters = np.load('starters-rule-vs-random.npy')\n",
    "counts = np.load('winners_count-rule-vs-random.npy')\n",
    "red = counts[np.where(winners == 'red')[0]]\n",
    "blue = counts[np.where(winners == 'blue')[0]]\n",
    "bins = np.linspace(5, 20, 15)\n",
    "\n",
    "MATLAB_blue = [0, 0.4470, 0.7410]\n",
    "MATLAB_orange = [0.8500, 0.3250, 0.0980]\n",
    "\n",
    "plt.hist(blue, bins, label='blue', facecolor = MATLAB_blue, alpha = .75)\n",
    "plt.hist(red, bins, label='red', facecolor = MATLAB_orange, alpha = .75)\n",
    "import matplotlib as mpl\n",
    "mpl.rc('font',family='Times New Roman')\n",
    "\n",
    "\n",
    "font_size = 12\n",
    "plt.xlabel('Number of turns until victory', fontsize = font_size)\n",
    "plt.ylabel('Number of Occurrences', fontsize = font_size)\n",
    "plt.title('Victories over 100 simulations', fontsize = font_size + 5)\n",
    "plt.legend({'Rule of Thumb', 'Random'}, prop={'size': font_size})\n",
    "plt.savefig(\"./../images/rule-vs-random.png\")\n"
   ]
  },
  {
   "cell_type": "code",
   "execution_count": null,
   "metadata": {},
   "outputs": [],
   "source": [
    "np.where(winners == 'red')"
   ]
  },
  {
   "cell_type": "code",
   "execution_count": null,
   "metadata": {},
   "outputs": [],
   "source": [
    " np.where(starters == 'blue')"
   ]
  },
  {
   "cell_type": "markdown",
   "metadata": {},
   "source": [
    "# Edge vs. BSR"
   ]
  },
  {
   "cell_type": "code",
   "execution_count": 136,
   "metadata": {},
   "outputs": [
    {
     "data": {
      "text/plain": [
       "100"
      ]
     },
     "execution_count": 136,
     "metadata": {},
     "output_type": "execute_result"
    },
    {
     "data": {
      "image/png": "[encoded data removed]",
      "text/plain": [
       "<Figure size 432x288 with 1 Axes>"
      ]
     },
     "metadata": {
      "needs_background": "light"
     },
     "output_type": "display_data"
    }
   ],
   "source": [
    "winners = np.load('winners-lookahead-edge-vs-BSR-2.npy')\n",
    "starters = np.load('starters-lookahead-edge-vs-BSR-2.npy')\n",
    "counts = np.load('winners_count-lookahead-edge-vs-BSR-2.npy')\n",
    "red = counts[np.where(winners == 'red')[0]]\n",
    "blue = counts[np.where(winners == 'blue')[0]]\n",
    "bins = np.linspace(5, 20, 15)\n",
    "\n",
    "MATLAB_blue = [0, 0.4470, 0.7410]\n",
    "MATLAB_orange = [0.8500, 0.3250, 0.0980]\n",
    "\n",
    "plt.hist(red, bins, label='red', facecolor = MATLAB_orange, alpha = .75)\n",
    "plt.hist(blue, bins, label='blue', facecolor = MATLAB_blue, alpha = .75)\n",
    "plt.hist(red, bins, label='red', facecolor = MATLAB_orange, alpha = .75)\n",
    "\n",
    "\n",
    "import matplotlib as mpl\n",
    "mpl.rc('font',family='Times New Roman')\n",
    "\n",
    "\n",
    "font_size = 12\n",
    "plt.xlabel('Number of turns until victory', fontsize = font_size)\n",
    "plt.ylabel('Number of Occurrences', fontsize = font_size)\n",
    "plt.title('Victories over 100 simulations', fontsize = font_size + 5)\n",
    "plt.legend({'Lookahead Edge', 'Lookahead BSR'}, prop={'size': font_size})\n",
    "plt.savefig(\"./../images/edge-vs-BSR.png\")\n",
    "\n",
    "len(red) + len(blue)"
   ]
  },
  {
   "cell_type": "code",
   "execution_count": 125,
   "metadata": {},
   "outputs": [
    {
     "data": {
      "text/plain": [
       "0.59"
      ]
     },
     "execution_count": 125,
     "metadata": {},
     "output_type": "execute_result"
    }
   ],
   "source": [
    "np.sum(starters == 'blue')/(len(red) + len(blue))"
   ]
  },
  {
   "cell_type": "code",
   "execution_count": 129,
   "metadata": {},
   "outputs": [
    {
     "data": {
      "text/plain": [
       "6.8604651162790695"
      ]
     },
     "execution_count": 129,
     "metadata": {},
     "output_type": "execute_result"
    }
   ],
   "source": [
    "np.mean(red)"
   ]
  },
  {
   "cell_type": "markdown",
   "metadata": {},
   "source": [
    "# Edge vs. Countries"
   ]
  },
  {
   "cell_type": "code",
   "execution_count": 141,
   "metadata": {},
   "outputs": [
    {
     "data": {
      "text/plain": [
       "100"
      ]
     },
     "execution_count": 141,
     "metadata": {},
     "output_type": "execute_result"
    },
    {
     "data": {
      "image/png": "[encoded data removed]",
      "text/plain": [
       "<Figure size 432x288 with 1 Axes>"
      ]
     },
     "metadata": {
      "needs_background": "light"
     },
     "output_type": "display_data"
    }
   ],
   "source": [
    "winners = np.load('winners-lookahead-edge-vs-countries.npy')\n",
    "starters = np.load('starters-lookahead-edge-vs-countries.npy')\n",
    "counts = np.load('winners_count-lookahead-edge-vs-countries.npy')\n",
    "red = counts[np.where(winners == 'red')[0]]\n",
    "blue = counts[np.where(winners == 'blue')[0]]\n",
    "bins = np.linspace(5, 15, 10)\n",
    "\n",
    "MATLAB_blue = [0, 0.4470, 0.7410]\n",
    "MATLAB_orange = [0.8500, 0.3250, 0.0980]\n",
    "\n",
    "plt.hist(red, bins, label='red', facecolor = MATLAB_orange, alpha = .75)\n",
    "plt.hist(blue, bins, label='blue', facecolor = MATLAB_blue, alpha = .75)\n",
    "plt.hist(red, bins, label='red', facecolor = MATLAB_orange, alpha = .75)\n",
    "\n",
    "\n",
    "\n",
    "import matplotlib as mpl\n",
    "mpl.rc('font',family='Times New Roman')\n",
    "\n",
    "\n",
    "font_size = 12\n",
    "plt.xlabel('Number of turns until victory', fontsize = font_size)\n",
    "plt.ylabel('Number of Occurrences', fontsize = font_size)\n",
    "plt.title('Victories over 100 simulations', fontsize = font_size + 5)\n",
    "plt.legend({'Lookahead Countries',  'Lookahead Edge'}, prop={'size': font_size})\n",
    "plt.savefig(\"./../images/edge-vs-countries.png\")\n",
    "\n",
    "len(red) + len(blue)\n"
   ]
  },
  {
   "cell_type": "code",
   "execution_count": 78,
   "metadata": {},
   "outputs": [
    {
     "data": {
      "text/plain": [
       "(6.380952380952381, 5.918918918918919)"
      ]
     },
     "execution_count": 78,
     "metadata": {},
     "output_type": "execute_result"
    }
   ],
   "source": [
    "np.mean(blue), np.mean(red)"
   ]
  },
  {
   "cell_type": "code",
   "execution_count": 3,
   "metadata": {},
   "outputs": [
    {
     "data": {
      "image/png": "[encoded data removed]",
      "text/plain": [
       "<Figure size 432x288 with 1 Axes>"
      ]
     },
     "metadata": {},
     "output_type": "display_data"
    }
   ],
   "source": [
    "full_risk_map = initializeFullRiskMap()\n",
    "team_names = [\"blue\", \"red\"]\n",
    "team_strategies = [RuleOfThumbStrategy, LookaheadRolloutStrategy]\n",
    "risk_map, teams = setGameBoardRandom(team_names, full_risk_map, team_strategies)\n",
    "#risk_map, teams = setGameBoardRandom(team_names, full_risk_map, RandomStrategy)\n",
    "color_map = risk_map.getTeamColorMap()\n",
    "nx.draw(risk_map.graph, node_color = color_map, pos = pos, with_labels=True)"
   ]
  },
  {
   "cell_type": "code",
   "execution_count": 13,
   "metadata": {},
   "outputs": [],
   "source": [
    "teams[0].addTroops('Peru', 1)"
   ]
  },
  {
   "cell_type": "code",
   "execution_count": 14,
   "metadata": {},
   "outputs": [
    {
     "name": "stdout",
     "output_type": "stream",
     "text": [
      "21 21\n",
      "0.9719626168224299\n"
     ]
    },
    {
     "data": {
      "text/plain": [
       "0.4928909952606635"
      ]
     },
     "execution_count": 14,
     "metadata": {},
     "output_type": "execute_result"
    }
   ],
   "source": [
    "BSR_Heuristic(teams[0], risk_map, teams[1])"
   ]
  },
  {
   "cell_type": "code",
   "execution_count": 15,
   "metadata": {},
   "outputs": [
    {
     "data": {
      "text/plain": [
       "0.5"
      ]
     },
     "execution_count": 15,
     "metadata": {},
     "output_type": "execute_result"
    }
   ],
   "source": [
    "EdgeWin(teams[0], risk_map, teams[1])"
   ]
  },
  {
   "cell_type": "markdown",
   "metadata": {},
   "source": [
    "# Edge vs Troops"
   ]
  },
  {
   "cell_type": "code",
   "execution_count": 147,
   "metadata": {},
   "outputs": [
    {
     "data": {
      "text/plain": [
       "100"
      ]
     },
     "execution_count": 147,
     "metadata": {},
     "output_type": "execute_result"
    },
    {
     "data": {
      "image/png": "[encoded data removed]",
      "text/plain": [
       "<Figure size 432x288 with 1 Axes>"
      ]
     },
     "metadata": {
      "needs_background": "light"
     },
     "output_type": "display_data"
    }
   ],
   "source": [
    "winners = np.load('winners-lookahead-edge-vs-troops.npy')\n",
    "starters = np.load('starters-lookahead-edge-vs-troops.npy')\n",
    "counts = np.load('winners_count-lookahead-edge-vs-troops.npy')\n",
    "red = counts[np.where(winners == 'red')[0]]\n",
    "blue = counts[np.where(winners == 'blue')[0]]\n",
    "bins = np.linspace(5, 20, 15)\n",
    "\n",
    "MATLAB_blue = [0, 0.4470, 0.7410]\n",
    "MATLAB_orange = [0.8500, 0.3250, 0.0980]\n",
    "\n",
    "plt.hist(red, bins, label='red', facecolor = MATLAB_orange, alpha = .75)\n",
    "plt.hist(blue, bins, label='blue', facecolor = MATLAB_blue, alpha = .75)\n",
    "\n",
    "\n",
    "\n",
    "import matplotlib as mpl\n",
    "mpl.rc('font',family='Times New Roman')\n",
    "\n",
    "\n",
    "font_size = 12\n",
    "plt.xlabel('Number of turns until victory', fontsize = font_size)\n",
    "plt.ylabel('Number of Occurrences', fontsize = font_size)\n",
    "plt.title('Victories over 100 simulations', fontsize = font_size + 5)\n",
    "plt.legend({'Lookahead Troops',  'Lookahead Edge'}, prop={'size': font_size})\n",
    "plt.savefig(\"./../images/edge-vs-countries.png\")\n",
    "\n",
    "len(red) + len(blue)\n"
   ]
  },
  {
   "cell_type": "code",
   "execution_count": 148,
   "metadata": {},
   "outputs": [
    {
     "data": {
      "text/plain": [
       "0.57"
      ]
     },
     "execution_count": 148,
     "metadata": {},
     "output_type": "execute_result"
    }
   ],
   "source": [
    "np.sum(winners == 'blue')/(len(red) + len(blue))"
   ]
  },
  {
   "cell_type": "code",
   "execution_count": 149,
   "metadata": {},
   "outputs": [
    {
     "data": {
      "text/plain": [
       "0.6"
      ]
     },
     "execution_count": 149,
     "metadata": {},
     "output_type": "execute_result"
    }
   ],
   "source": [
    "np.sum(starters == 'blue')/(len(red) + len(blue))"
   ]
  },
  {
   "cell_type": "code",
   "execution_count": 150,
   "metadata": {},
   "outputs": [
    {
     "data": {
      "text/plain": [
       "6.456140350877193"
      ]
     },
     "execution_count": 150,
     "metadata": {},
     "output_type": "execute_result"
    }
   ],
   "source": [
    "np.mean(blue)"
   ]
  },
  {
   "cell_type": "code",
   "execution_count": 151,
   "metadata": {},
   "outputs": [
    {
     "data": {
      "text/plain": [
       "6.5813953488372094"
      ]
     },
     "execution_count": 151,
     "metadata": {},
     "output_type": "execute_result"
    }
   ],
   "source": [
    "np.mean(red)"
   ]
  }
 ],
 "metadata": {
  "kernelspec": {
   "display_name": "Python 3 (ipykernel)",
   "language": "python",
   "name": "python3"
  },
  "language_info": {
   "codemirror_mode": {
    "name": "ipython",
    "version": 3
   },
   "file_extension": ".py",
   "mimetype": "text/x-python",
   "name": "python",
   "nbconvert_exporter": "python",
   "pygments_lexer": "ipython3",
   "version": "3.9.5"
  }
 },
 "nbformat": 4,
 "nbformat_minor": 2
}
