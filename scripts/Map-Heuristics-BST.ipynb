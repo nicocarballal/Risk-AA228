{
 "cells": [
  {
   "cell_type": "code",
   "execution_count": 1,
   "metadata": {},
   "outputs": [],
   "source": [
    "from utils.game_map_class import GameMap\n",
    "from utils.game_team_class import GameTeam"
   ]
  },
  {
   "cell_type": "code",
   "execution_count": 2,
   "metadata": {},
   "outputs": [],
   "source": [
    "import networkx as nx\n",
    "import random"
   ]
  },
  {
   "cell_type": "code",
   "execution_count": 3,
   "metadata": {},
   "outputs": [],
   "source": [
    "risk_blocks = \\\n",
    "    {\"North America\":\n",
    "         (\"orange\",\n",
    "          [\"Alaska\",\n",
    "            \"North West Territory\",\n",
    "            \"Alberta\",\n",
    "            \"Ontario\",\n",
    "            \"Quebec\",\n",
    "            \"Western United States\",\n",
    "            \"Eastern United States\",\n",
    "            \"Central America\",\n",
    "            \"Greenland\"]\n",
    "         ),\n",
    "\n",
    "    \"South America\":\n",
    "         (\"yellow\",\n",
    "          [\"Venezuela\",\n",
    "            \"Brazil\",\n",
    "            \"Peru\",\n",
    "            \"Argentina\"]\n",
    "         ),\n",
    "\n",
    "    \"Europe\":\n",
    "         (\"purple\",\n",
    "          [\"Iceland\",\n",
    "            \"Great Britain\",\n",
    "            \"Western Europe\",\n",
    "            \"Northern Europe\",\n",
    "            \"Southern Europe\",\n",
    "            \"Ukraine\",\n",
    "            \"Scandinavia\"]\n",
    "         ),\n",
    "\n",
    "\n",
    "    \"Asia\":\n",
    "         (\"green\",\n",
    "          [\"Middle East\",\n",
    "            \"Afghanistan\",\n",
    "            \"Ural\",\n",
    "            \"Siberia\",\n",
    "            \"Yakutsk\",\n",
    "            \"Irkutsk\",\n",
    "            \"Mongolia\",\n",
    "            \"China\",\n",
    "            \"India\",\n",
    "            \"Siam\",\n",
    "            \"Kamchatka\",\n",
    "            \"Japan\"]\n",
    "         ),\n",
    "\n",
    "    \"Australia\":\n",
    "         (\"pink\",\n",
    "          [\"Indonesia\",\n",
    "            \"New Guinea\",\n",
    "            \"Western Australia\",\n",
    "            \"Eastern Australia\"]\n",
    "         ),\n",
    "\n",
    "    \"Africa\":\n",
    "         (\"brown\",\n",
    "          [\"Egypt\",\n",
    "           \"North Africa\",\n",
    "           \"East Africa\",\n",
    "           \"Congo\",\n",
    "           \"South Africa\",\n",
    "           \"Madagascar\"]\n",
    "         )\n",
    "    }"
   ]
  },
  {
   "cell_type": "code",
   "execution_count": 4,
   "metadata": {},
   "outputs": [],
   "source": [
    "risk_edges = [(\"Alaska\",\"North West Territory\"),\n",
    "              (\"Alaska\",\"Alberta\"),\n",
    "              (\"Alaska\",\"Kamchatka\"),\n",
    "              (\"North West Territory\",\"Alberta\"),\n",
    "              (\"North West Territory\",\"Ontario\"),\n",
    "              (\"North West Territory\",\"Greenland\"),\n",
    "              (\"Alberta\",\"Ontario\"),\n",
    "              (\"Alberta\",\"Western United States\"),\n",
    "              (\"Ontario\",\"Greenland\"),\n",
    "              (\"Ontario\",\"Quebec\"),\n",
    "              (\"Ontario\",\"Western United States\"),\n",
    "              (\"Ontario\",\"Eastern United States\"),\n",
    "              (\"Greenland\",\"Quebec\"),\n",
    "              (\"Greenland\",\"Iceland\"),\n",
    "              (\"Quebec\",\"Eastern United States\"),\n",
    "              (\"Western United States\",\"Eastern United States\"),\n",
    "              (\"Western United States\",\"Central America\"),\n",
    "              (\"Eastern United States\",\"Central America\"),\n",
    "              (\"Central America\",\"Venezuela\"),\n",
    "              (\"Venezuela\",\"Brazil\"),\n",
    "              (\"Venezuela\",\"Peru\"),\n",
    "              (\"Brazil\",\"Peru\"),\n",
    "              (\"Brazil\",\"Argentina\"),\n",
    "              (\"Brazil\",\"North Africa\"),\n",
    "              (\"Peru\",\"Argentina\"),\n",
    "              (\"Iceland\",\"Great Britain\"),\n",
    "              (\"Iceland\",\"Scandinavia\"),\n",
    "              (\"Great Britain\",\"Scandinavia\"),\n",
    "              (\"Great Britain\",\"Northern Europe\"),\n",
    "              (\"Great Britain\",\"Western Europe\"),\n",
    "              (\"Western Europe\",\"Northern Europe\"),\n",
    "              (\"Western Europe\",\"Southern Europe\"),\n",
    "              (\"Western Europe\",\"North Africa\"),\n",
    "              (\"Northern Europe\",\"Scandinavia\"),\n",
    "              (\"Northern Europe\",\"Southern Europe\"),\n",
    "              (\"Northern Europe\",\"Ukraine\"),\n",
    "              (\"Southern Europe\",\"Ukraine\"),\n",
    "              (\"Southern Europe\",\"Middle East\"),\n",
    "              (\"Southern Europe\",\"Egypt\"),\n",
    "              (\"Southern Europe\",\"North Africa\"),\n",
    "              (\"Ukraine\",\"Scandinavia\"),\n",
    "              (\"Ukraine\",\"Ural\"),\n",
    "              (\"Ukraine\",\"Afghanistan\"),\n",
    "              (\"Ukraine\",\"Middle East\"),\n",
    "              (\"Egypt\",\"Middle East\"),\n",
    "              (\"Egypt\",\"East Africa\"),\n",
    "              (\"Egypt\",\"North Africa\"),\n",
    "              (\"North Africa\",\"East Africa\"),\n",
    "              (\"North Africa\",\"Congo\"),\n",
    "              (\"East Africa\",\"Middle East\"),\n",
    "              (\"East Africa\",\"Madagascar\"),\n",
    "              (\"East Africa\",\"South Africa\"),\n",
    "              (\"East Africa\",\"Congo\"),\n",
    "              (\"Congo\",\"South Africa\"),\n",
    "              (\"South Africa\",\"Madagascar\"),\n",
    "              (\"Middle East\",\"Afghanistan\"),\n",
    "              (\"Middle East\",\"India\"),\n",
    "              (\"Afghanistan\",\"Ural\"),\n",
    "              (\"Afghanistan\",\"China\"),\n",
    "              (\"Afghanistan\",\"India\"),\n",
    "              (\"Ural\",\"Siberia\"),\n",
    "              (\"Ural\",\"China\"),\n",
    "              (\"Siberia\",\"Yakutsk\"),\n",
    "              (\"Siberia\",\"Irkutsk\"),\n",
    "              (\"Siberia\",\"Mongolia\"),\n",
    "              (\"Siberia\",\"China\"),\n",
    "              (\"Yakutsk\",\"Kamchatka\"),\n",
    "              (\"Yakutsk\",\"Irkutsk\"),\n",
    "              (\"Irkutsk\",\"Kamchatka\"),\n",
    "              (\"Irkutsk\",\"Mongolia\"),\n",
    "              (\"Mongolia\",\"China\"),\n",
    "              (\"Mongolia\",\"Kamchatka\"),\n",
    "              (\"Mongolia\",\"Japan\"),\n",
    "              (\"China\",\"Siam\"),\n",
    "              (\"China\",\"India\"),\n",
    "              (\"India\",\"Siam\"),\n",
    "              (\"Siam\",\"Indonesia\"),\n",
    "              (\"Kamchatka\",\"Japan\"),\n",
    "              (\"Indonesia\",\"New Guinea\"),\n",
    "              (\"Indonesia\",\"Western Australia\"),\n",
    "              (\"New Guinea\",\"Western Australia\"),\n",
    "              (\"New Guinea\",\"Eastern Australia\"),\n",
    "              (\"Western Australia\",\"Eastern Australia\")]"
   ]
  },
  {
   "cell_type": "code",
   "execution_count": 5,
   "metadata": {},
   "outputs": [],
   "source": [
    "full_risk_map = GameMap(risk_blocks,risk_edges)"
   ]
  },
  {
   "cell_type": "code",
   "execution_count": 6,
   "metadata": {},
   "outputs": [],
   "source": [
    "# clearly this is ugly will need to work on this\n",
    "nx.draw(full_risk_map.graph,with_labels=True)"
   ]
  },
  {
   "cell_type": "code",
   "execution_count": 7,
   "metadata": {},
   "outputs": [],
   "source": [
    "def setGameBoardRandom(team_names, risk_map):\n",
    "    teams = [GameTeam(team_name, risk_map, territories = []) for team_name in team_names]\n",
    "    num_teams = len(teams)\n",
    "    i = 0\n",
    "    territories = risk_map.getTerritories()\n",
    "    random.shuffle(territories)\n",
    "    for block in territories:\n",
    "        teams[i % num_teams].addTerritory(block)\n",
    "        teams[i % num_teams].addTroops(block, 1)\n",
    "        risk_map.setTeam(block, teams[i % num_teams])\n",
    "        risk_map.addTroops(block, 1)\n",
    "        i += 1\n",
    "    return risk_map, teams"
   ]
  },
  {
   "cell_type": "code",
   "execution_count": 8,
   "metadata": {},
   "outputs": [],
   "source": [
    "team_names = [\"red\", \"blue\"]\n",
    "risk_map, teams = setGameBoardRandom(team_names, full_risk_map)"
   ]
  },
  {
   "cell_type": "code",
   "execution_count": 9,
   "metadata": {},
   "outputs": [
    {
     "data": {
      "text/plain": [
       "{'block': 'North America',\n",
       " 'team': <utils.game_team_class.GameTeam at 0x187fe25a2c8>,\n",
       " 'num_troops': 2,\n",
       " 'neighbors': ['North West Territory', 'Alberta', 'Kamchatka']}"
      ]
     },
     "execution_count": 9,
     "metadata": {},
     "output_type": "execute_result"
    }
   ],
   "source": [
    "risk_map.graph.nodes['Alaska']"
   ]
  },
  {
   "cell_type": "code",
   "execution_count": 10,
   "metadata": {},
   "outputs": [],
   "source": [
    "def BST_Heuristic(team, risk_map):\n",
    "    BSR = {}\n",
    "    for territory in team.getTerritories():\n",
    "        BST = 0\n",
    "        neighbors = risk_map.getNeighbors(territory)\n",
    "        for neighbor in neighbors:\n",
    "            if risk_map.getTeam(neighbor) != team.getName():\n",
    "                BST += risk_map.getTroops(neighbor)\n",
    "        BSR[territory] = BST/risk_map.getTroops(territory)\n",
    "    return BSR\n",
    "    \n",
    "                "
   ]
  },
  {
   "cell_type": "code",
   "execution_count": 11,
   "metadata": {},
   "outputs": [
    {
     "data": {
      "text/plain": [
       "{'Madagascar': 1.0,\n",
       " 'Egypt': 2.0,\n",
       " 'New Guinea': 1.0,\n",
       " 'Irkutsk': 2.0,\n",
       " 'Middle East': 2.0,\n",
       " 'Siam': 1.0,\n",
       " 'Brazil': 4.0,\n",
       " 'East Africa': 2.0,\n",
       " 'Siberia': 3.0,\n",
       " 'Alberta': 3.0,\n",
       " 'Western United States': 3.0,\n",
       " 'India': 2.0,\n",
       " 'Eastern Australia': 1.0,\n",
       " 'Quebec': 2.0,\n",
       " 'Ukraine': 4.0,\n",
       " 'Yakutsk': 1.0,\n",
       " 'Greenland': 3.0,\n",
       " 'Indonesia': 1.0,\n",
       " 'Congo': 2.0,\n",
       " 'Western Europe': 3.0,\n",
       " 'Northern Europe': 3.0}"
      ]
     },
     "execution_count": 11,
     "metadata": {},
     "output_type": "execute_result"
    }
   ],
   "source": [
    "BST_Heuristic(teams[0], risk_map)"
   ]
  }
 ],
 "metadata": {
  "kernelspec": {
   "display_name": "Python 3",
   "language": "python",
   "name": "python3"
  },
  "language_info": {
   "codemirror_mode": {
    "name": "ipython",
    "version": 3
   },
   "file_extension": ".py",
   "mimetype": "text/x-python",
   "name": "python",
   "nbconvert_exporter": "python",
   "pygments_lexer": "ipython3",
   "version": "3.7.4"
  }
 },
 "nbformat": 4,
 "nbformat_minor": 5
}
