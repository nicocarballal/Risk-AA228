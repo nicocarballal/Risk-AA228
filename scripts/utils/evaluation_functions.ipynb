{
 "cells": [
  {
   "cell_type": "code",
   "execution_count": 1,
   "metadata": {},
   "outputs": [],
   "source": [
    "from game_map_class import GameMap"
   ]
  },
  {
   "cell_type": "code",
   "execution_count": 2,
   "metadata": {},
   "outputs": [],
   "source": [
    "import networkx as nx"
   ]
  },
  {
   "cell_type": "code",
   "execution_count": 3,
   "metadata": {},
   "outputs": [],
   "source": [
    "ex_blocks = \\\n",
    "    {\"1\":\n",
    "         (\"red\",\n",
    "          [\"A\",\n",
    "           \"B\",\n",
    "           \"C\",\n",
    "           \"D\"]\n",
    "         ),\n",
    "     \"2\":\n",
    "         (\"blue\",\n",
    "          [\"E\",\n",
    "           \"F\"]\n",
    "         ),\n",
    "     \"3\":\n",
    "         (\"green\"\n",
    "          ,[\"G\",\n",
    "            \"H\",\n",
    "            \"I\"]\n",
    "         )\n",
    "    }"
   ]
  },
  {
   "cell_type": "code",
   "execution_count": 4,
   "metadata": {},
   "outputs": [],
   "source": [
    "ex_edges = [(\"A\",\"B\"),\n",
    "            (\"B\",\"C\"),\n",
    "            (\"C\",\"D\"),\n",
    "            (\"D\",\"A\"),\n",
    "            (\"B\",\"E\"),\n",
    "            (\"C\",\"E\"),\n",
    "            (\"E\",\"F\"),\n",
    "            (\"F\",\"G\"),\n",
    "            (\"G\",\"H\"),\n",
    "            (\"G\",\"I\")]"
   ]
  },
  {
   "cell_type": "code",
   "execution_count": 5,
   "metadata": {},
   "outputs": [],
   "source": [
    "ex_teams = ['red','blue']"
   ]
  },
  {
   "cell_type": "code",
   "execution_count": 7,
   "metadata": {},
   "outputs": [],
   "source": [
    "simple_map = GameMap(ex_blocks,ex_edges,ex_teams)"
   ]
  },
  {
   "cell_type": "code",
   "execution_count": null,
   "metadata": {},
   "outputs": [],
   "source": [
    "# I was thinking we could combine different evaluation functions"
   ]
  },
  {
   "cell_type": "code",
   "execution_count": null,
   "metadata": {},
   "outputs": [],
   "source": [
    "def evaluation_function_a(game_map):\n",
    "    \"\"\"This function takes a game map (i.e. a state) and returns a dictionary of team\n",
    "    to % equity they have in the game\n",
    "    \n",
    "    This one just calculates proportion of edges it would win\"\"\"\n",
    "    \n",
    "    edge_win_dict = {}\n",
    "    for team in simple_map.teams:\n",
    "        edge_win_dict[team] = 0\n",
    "\n",
    "    total = 0\n",
    "    for e in simple_map.graph.edges():\n",
    "        nodeA = simple_map.graph.nodes[e[0]]['num_troops']\n",
    "        nodeB = simple_map.graph.nodes[e[1]]['num_troops']\n",
    "        if nodeA['team'] or nodeB['team']:\n",
    "            total += 1\n",
    "            if nodeA['team'] == nodeB['team']:\n",
    "                edge_win_dict[nodeA['team']] += 1\n",
    "            elif nodeA['team'] == None or nodeA['num_troops'] < nodeB['num_troops']:\n",
    "                edge_win_dict[nodeB['team']] += 1\n",
    "            elif nodeB['team'] == None or nodeB['num_troops'] < nodeA['num_troops']:\n",
    "                edge_win_dict[nodeA['team']] += 1\n",
    "            else:\n",
    "                total -= 1\n",
    "\n",
    "    for team in simple_map.teams:\n",
    "        edge_win_dict[team] = edge_win_dict[team]/total\n",
    "\n",
    "    return edge_win_dict\n",
    "        "
   ]
  },
  {
   "cell_type": "code",
   "execution_count": null,
   "metadata": {},
   "outputs": [],
   "source": [
    "\n",
    "    "
   ]
  }
 ],
 "metadata": {
  "kernelspec": {
   "display_name": "Python 3",
   "language": "python",
   "name": "python3"
  },
  "language_info": {
   "codemirror_mode": {
    "name": "ipython",
    "version": 3
   },
   "file_extension": ".py",
   "mimetype": "text/x-python",
   "name": "python",
   "nbconvert_exporter": "python",
   "pygments_lexer": "ipython3",
   "version": "3.7.3"
  }
 },
 "nbformat": 4,
 "nbformat_minor": 2
}
