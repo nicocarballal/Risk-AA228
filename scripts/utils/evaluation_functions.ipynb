{
 "cells": [
  {
   "cell_type": "code",
   "execution_count": 1,
   "metadata": {},
   "outputs": [],
   "source": [
    "from game_map_class import GameMap"
   ]
  },
  {
   "cell_type": "code",
   "execution_count": 2,
   "metadata": {},
   "outputs": [],
   "source": [
    "import networkx as nx"
   ]
  },
  {
   "cell_type": "code",
   "execution_count": 3,
   "metadata": {},
   "outputs": [],
   "source": [
    "ex_blocks = \\\n",
    "    {\"1\":\n",
    "         (\"red\",\n",
    "          [\"A\",\n",
    "           \"B\",\n",
    "           \"C\",\n",
    "           \"D\"]\n",
    "         ),\n",
    "     \"2\":\n",
    "         (\"blue\",\n",
    "          [\"E\",\n",
    "           \"F\"]\n",
    "         ),\n",
    "     \"3\":\n",
    "         (\"green\"\n",
    "          ,[\"G\",\n",
    "            \"H\",\n",
    "            \"I\"]\n",
    "         )\n",
    "    }"
   ]
  },
  {
   "cell_type": "code",
   "execution_count": 4,
   "metadata": {},
   "outputs": [],
   "source": [
    "ex_edges = [(\"A\",\"B\"),\n",
    "            (\"B\",\"C\"),\n",
    "            (\"C\",\"D\"),\n",
    "            (\"D\",\"A\"),\n",
    "            (\"B\",\"E\"),\n",
    "            (\"C\",\"E\"),\n",
    "            (\"E\",\"F\"),\n",
    "            (\"F\",\"G\"),\n",
    "            (\"G\",\"H\"),\n",
    "            (\"G\",\"I\")]"
   ]
  },
  {
   "cell_type": "code",
   "execution_count": 5,
   "metadata": {},
   "outputs": [],
   "source": [
    "# In a real game you'd get actual GameTeams for your dict, but for demonstration we won't:\n",
    "ex_teams = {'red':None,'blue':None}"
   ]
  },
  {
   "cell_type": "code",
   "execution_count": 6,
   "metadata": {},
   "outputs": [],
   "source": [
    "simple_map = GameMap(ex_blocks,ex_edges,ex_teams)"
   ]
  },
  {
   "cell_type": "code",
   "execution_count": 7,
   "metadata": {},
   "outputs": [],
   "source": [
    "# I was thinking we could combine different evaluation functions"
   ]
  },
  {
   "cell_type": "code",
   "execution_count": 26,
   "metadata": {},
   "outputs": [],
   "source": [
    "def evaluation_function_a(game_map):\n",
    "    \"\"\"This function takes a game map (i.e. a state) and returns a dictionary of team\n",
    "    to % equity they have in the game\n",
    "    \n",
    "    This one just calculates proportion of edges it would win\"\"\"\n",
    "    \n",
    "    edge_win_dict = {}\n",
    "    for team in simple_map.teams:\n",
    "        edge_win_dict[team] = 0\n",
    "\n",
    "    total = 0\n",
    "    for e in simple_map.graph.edges():\n",
    "        nodeA = simple_map.graph.nodes[e[0]]\n",
    "        nodeB = simple_map.graph.nodes[e[1]]\n",
    "        if nodeA['team'] or nodeB['team']:\n",
    "            total += 1\n",
    "            if nodeA['team'] == nodeB['team']:\n",
    "                edge_win_dict[nodeA['team']] += 1\n",
    "            elif nodeA['team'] == None or nodeA['num_troops'] < nodeB['num_troops']:\n",
    "                edge_win_dict[nodeB['team']] += 1\n",
    "            elif nodeB['team'] == None or nodeB['num_troops'] < nodeA['num_troops']:\n",
    "                edge_win_dict[nodeA['team']] += 1\n",
    "            else:\n",
    "                total -= 1\n",
    "\n",
    "    for team in simple_map.teams:\n",
    "        if total != 0:\n",
    "            edge_win_dict[team] = edge_win_dict[team]/total\n",
    "\n",
    "    return edge_win_dict\n",
    "        "
   ]
  },
  {
   "cell_type": "code",
   "execution_count": 30,
   "metadata": {},
   "outputs": [
    {
     "data": {
      "text/plain": [
       "{'red': 0, 'blue': 0}"
      ]
     },
     "execution_count": 30,
     "metadata": {},
     "output_type": "execute_result"
    }
   ],
   "source": [
    "evaluation_function_a(simple_map)\n",
    "    "
   ]
  },
  {
   "cell_type": "code",
   "execution_count": 31,
   "metadata": {},
   "outputs": [],
   "source": [
    "def make_graph(blocks,edges):\n",
    "    graph = nx.Graph()\n",
    "    for b in blocks.keys():\n",
    "        for node in blocks[b][1]:\n",
    "            graph.add_node(node,block=b,team=None,num_troops=0)\n",
    "            graph.nodes[node]['neighbors'] = []\n",
    "\n",
    "    for edge in edges:\n",
    "        graph.add_edge(edge[0],edge[1])\n",
    "        graph.nodes[edge[0]]['neighbors'].append(edge[1])\n",
    "        graph.nodes[edge[1]]['neighbors'].append(edge[0])\n",
    "    return graph"
   ]
  },
  {
   "cell_type": "code",
   "execution_count": 32,
   "metadata": {},
   "outputs": [],
   "source": [
    "simple_map.graph.nodes['A']['team'] = 'red'"
   ]
  },
  {
   "cell_type": "code",
   "execution_count": 33,
   "metadata": {},
   "outputs": [],
   "source": [
    "simple_map.graph.nodes['A']['num_troops'] = 3"
   ]
  },
  {
   "cell_type": "code",
   "execution_count": 34,
   "metadata": {},
   "outputs": [
    {
     "data": {
      "text/plain": [
       "{'red': 1.0, 'blue': 0.0}"
      ]
     },
     "execution_count": 34,
     "metadata": {},
     "output_type": "execute_result"
    }
   ],
   "source": [
    "evaluation_function_a(simple_map)"
   ]
  },
  {
   "cell_type": "code",
   "execution_count": 22,
   "metadata": {},
   "outputs": [],
   "source": []
  },
  {
   "cell_type": "code",
   "execution_count": null,
   "metadata": {},
   "outputs": [],
   "source": []
  },
  {
   "cell_type": "code",
   "execution_count": null,
   "metadata": {},
   "outputs": [],
   "source": []
  }
 ],
 "metadata": {
  "kernelspec": {
   "display_name": "Python 3",
   "language": "python",
   "name": "python3"
  },
  "language_info": {
   "codemirror_mode": {
    "name": "ipython",
    "version": 3
   },
   "file_extension": ".py",
   "mimetype": "text/x-python",
   "name": "python",
   "nbconvert_exporter": "python",
   "pygments_lexer": "ipython3",
   "version": "3.7.3"
  }
 },
 "nbformat": 4,
 "nbformat_minor": 2
}
