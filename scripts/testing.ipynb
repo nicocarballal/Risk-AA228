{
 "cells": [
  {
   "cell_type": "code",
   "execution_count": 3,
   "metadata": {},
   "outputs": [],
   "source": [
    "from utils.game_map_class import GameMap"
   ]
  },
  {
   "cell_type": "code",
   "execution_count": 4,
   "metadata": {},
   "outputs": [],
   "source": [
    "import networkx as nx"
   ]
  },
  {
   "cell_type": "code",
   "execution_count": 5,
   "metadata": {},
   "outputs": [],
   "source": [
    "ex_blocks = \\\n",
    "    {\"1\":\n",
    "         (\"red\",\n",
    "          [\"A\",\n",
    "           \"B\",\n",
    "           \"C\",\n",
    "           \"D\"]\n",
    "         ),\n",
    "     \"2\":\n",
    "         (\"blue\",\n",
    "          [\"E\",\n",
    "           \"F\"]\n",
    "         ),\n",
    "     \"3\":\n",
    "         (\"green\"\n",
    "          ,[\"G\",\n",
    "            \"H\",\n",
    "            \"I\"]\n",
    "         )\n",
    "    }"
   ]
  },
  {
   "cell_type": "code",
   "execution_count": 6,
   "metadata": {},
   "outputs": [],
   "source": [
    "ex_edges = [(\"A\",\"B\"),\n",
    "            (\"B\",\"C\"),\n",
    "            (\"C\",\"D\"),\n",
    "            (\"D\",\"A\"),\n",
    "            (\"B\",\"E\"),\n",
    "            (\"C\",\"E\"),\n",
    "            (\"E\",\"F\"),\n",
    "            (\"F\",\"G\"),\n",
    "            (\"G\",\"H\"),\n",
    "            (\"G\",\"I\")]"
   ]
  },
  {
   "cell_type": "code",
   "execution_count": 7,
   "metadata": {},
   "outputs": [],
   "source": [
    "# In a real game you'd get actual GameTeams for your dict, but for demonstration we won't:\n",
    "ex_teams = {'red':None,'blue':None}"
   ]
  },
  {
   "cell_type": "code",
   "execution_count": 8,
   "metadata": {},
   "outputs": [],
   "source": [
    "simple_map = GameMap(ex_blocks,ex_edges,ex_teams)"
   ]
  },
  {
   "cell_type": "code",
   "execution_count": 9,
   "metadata": {},
   "outputs": [],
   "source": [
    "# I was thinking we could combine different evaluation functions"
   ]
  },
  {
   "cell_type": "code",
   "execution_count": 10,
   "metadata": {},
   "outputs": [],
   "source": [
    "def evaluation_function_a(game_map):\n",
    "    \"\"\"This function takes a game map (i.e. a state) and returns a dictionary of team\n",
    "    to % equity they have in the game\n",
    "    \n",
    "    This one just calculates proportion of edges it would win\"\"\"\n",
    "    \n",
    "    edge_win_dict = {}\n",
    "    for team in game_map.teams:\n",
    "        edge_win_dict[team] = 0\n",
    "\n",
    "    total = 0\n",
    "    for e in game_map.graph.edges():\n",
    "        nodeA = game_map.graph.nodes[e[0]]\n",
    "        nodeB = game_map.graph.nodes[e[1]]\n",
    "        if nodeA['team'] or nodeB['team']:\n",
    "            total += 1\n",
    "            if nodeA['team'] == nodeB['team']:\n",
    "                edge_win_dict[nodeA['team']] += 1\n",
    "            elif nodeA['team'] == None or nodeA['num_troops'] < nodeB['num_troops']:\n",
    "                edge_win_dict[nodeB['team']] += 1\n",
    "            elif nodeB['team'] == None or nodeB['num_troops'] < nodeA['num_troops']:\n",
    "                edge_win_dict[nodeA['team']] += 1\n",
    "            else:\n",
    "                total -= 1\n",
    "\n",
    "    for team in game_map.teams:\n",
    "        if total != 0:\n",
    "            edge_win_dict[team] = edge_win_dict[team]/total\n",
    "\n",
    "    return edge_win_dict\n",
    "        "
   ]
  },
  {
   "cell_type": "code",
   "execution_count": 11,
   "metadata": {},
   "outputs": [],
   "source": [
    "def EdgeWin(team, game_map):\n",
    "    \"\"\"This function takes a game map (i.e. a state) and returns\n",
    "    the % equity they have in the game\n",
    "\n",
    "    This one just calculates proportion of edges it would win\"\"\"\n",
    "\n",
    "    edge_win_dict = {}\n",
    "    for team_name in game_map.teams:\n",
    "        edge_win_dict[team_name] = 0\n",
    "\n",
    "    total = 0\n",
    "    for e in game_map.graph.edges():\n",
    "        nodeA = game_map.graph.nodes[e[0]]\n",
    "        nodeB = game_map.graph.nodes[e[1]]\n",
    "        if nodeA['team'] or nodeB['team']:\n",
    "            total += 1\n",
    "            if nodeA['team'] == nodeB['team']:\n",
    "                edge_win_dict[nodeA['team']] += 1\n",
    "            elif nodeA['team'] == None or nodeA['num_troops'] < nodeB['num_troops']:\n",
    "                edge_win_dict[nodeB['team']] += 1\n",
    "            elif nodeB['team'] == None or nodeB['num_troops'] < nodeA['num_troops']:\n",
    "                edge_win_dict[nodeA['team']] += 1\n",
    "            else:\n",
    "                total -= 1\n",
    "\n",
    "    if total == 0:\n",
    "        equity = .5\n",
    "    else:\n",
    "        equity = edge_win_dict[team.getName()]/total\n",
    "\n",
    "    return equity"
   ]
  },
  {
   "cell_type": "code",
   "execution_count": 12,
   "metadata": {},
   "outputs": [
    {
     "data": {
      "text/plain": [
       "{'red': 0, 'blue': 0}"
      ]
     },
     "execution_count": 12,
     "metadata": {},
     "output_type": "execute_result"
    }
   ],
   "source": [
    "evaluation_function_a(simple_map)\n",
    "    "
   ]
  },
  {
   "cell_type": "code",
   "execution_count": 13,
   "metadata": {},
   "outputs": [],
   "source": [
    "def make_graph(blocks,edges):\n",
    "    graph = nx.Graph()\n",
    "    for b in blocks.keys():\n",
    "        for node in blocks[b][1]:\n",
    "            graph.add_node(node,block=b,team=None,num_troops=0)\n",
    "            graph.nodes[node]['neighbors'] = []\n",
    "\n",
    "    for edge in edges:\n",
    "        graph.add_edge(edge[0],edge[1])\n",
    "        graph.nodes[edge[0]]['neighbors'].append(edge[1])\n",
    "        graph.nodes[edge[1]]['neighbors'].append(edge[0])\n",
    "    return graph"
   ]
  },
  {
   "cell_type": "code",
   "execution_count": 14,
   "metadata": {},
   "outputs": [],
   "source": [
    "simple_map.graph.nodes['A']['team'] = 'red'"
   ]
  },
  {
   "cell_type": "code",
   "execution_count": 15,
   "metadata": {},
   "outputs": [],
   "source": [
    "simple_map.graph.nodes['A']['num_troops'] = 3"
   ]
  },
  {
   "cell_type": "code",
   "execution_count": 16,
   "metadata": {},
   "outputs": [
    {
     "data": {
      "text/plain": [
       "{'red': 1.0, 'blue': 0.0}"
      ]
     },
     "execution_count": 16,
     "metadata": {},
     "output_type": "execute_result"
    }
   ],
   "source": [
    "evaluation_function_a(simple_map)"
   ]
  },
  {
   "cell_type": "code",
   "execution_count": 17,
   "metadata": {},
   "outputs": [],
   "source": [
    "trial = GameMap(ex_blocks,ex_edges,{})"
   ]
  },
  {
   "cell_type": "code",
   "execution_count": 18,
   "metadata": {},
   "outputs": [],
   "source": [
    "from utils.game_team_class import GameTeam"
   ]
  },
  {
   "cell_type": "code",
   "execution_count": 19,
   "metadata": {},
   "outputs": [],
   "source": [
    "teams = []\n",
    "team_names = ['red','blue']\n",
    "for i in range(len(team_names)):\n",
    "    strategy_class = None\n",
    "    team_name = team_names[i]\n",
    "    teams.append(GameTeam(team_name, trial, strategy = strategy_class, territories = []))"
   ]
  },
  {
   "cell_type": "code",
   "execution_count": 20,
   "metadata": {},
   "outputs": [
    {
     "data": {
      "text/plain": [
       "{'red': <utils.game_team_class.GameTeam at 0x7fa503f34358>,\n",
       " 'blue': <utils.game_team_class.GameTeam at 0x7fa503f34390>}"
      ]
     },
     "execution_count": 20,
     "metadata": {},
     "output_type": "execute_result"
    }
   ],
   "source": [
    "trial.teams"
   ]
  },
  {
   "cell_type": "code",
   "execution_count": 22,
   "metadata": {},
   "outputs": [],
   "source": [
    "import utils.map_setup_functions as msf"
   ]
  },
  {
   "cell_type": "code",
   "execution_count": 23,
   "metadata": {},
   "outputs": [],
   "source": [
    "trial, teams = msf.setGameBoardRandom(team_names,trial)"
   ]
  },
  {
   "cell_type": "code",
   "execution_count": 24,
   "metadata": {},
   "outputs": [
    {
     "data": {
      "text/plain": [
       "{'red': 0.75, 'blue': 0.25}"
      ]
     },
     "execution_count": 24,
     "metadata": {},
     "output_type": "execute_result"
    }
   ],
   "source": [
    "evaluation_function_a(trial)"
   ]
  },
  {
   "cell_type": "code",
   "execution_count": 25,
   "metadata": {},
   "outputs": [
    {
     "data": {
      "text/plain": [
       "[('A',\n",
       "  {'block': '1', 'team': 'red', 'num_troops': 1, 'neighbors': ['B', 'D']}),\n",
       " ('B',\n",
       "  {'block': '1',\n",
       "   'team': 'red',\n",
       "   'num_troops': 1,\n",
       "   'neighbors': ['A', 'C', 'E']}),\n",
       " ('C',\n",
       "  {'block': '1',\n",
       "   'team': 'blue',\n",
       "   'num_troops': 1,\n",
       "   'neighbors': ['B', 'D', 'E']}),\n",
       " ('D',\n",
       "  {'block': '1', 'team': 'red', 'num_troops': 1, 'neighbors': ['C', 'A']}),\n",
       " ('E',\n",
       "  {'block': '2',\n",
       "   'team': 'blue',\n",
       "   'num_troops': 1,\n",
       "   'neighbors': ['B', 'C', 'F']}),\n",
       " ('F',\n",
       "  {'block': '2', 'team': 'red', 'num_troops': 1, 'neighbors': ['E', 'G']}),\n",
       " ('G',\n",
       "  {'block': '3',\n",
       "   'team': 'red',\n",
       "   'num_troops': 1,\n",
       "   'neighbors': ['F', 'H', 'I']}),\n",
       " ('H', {'block': '3', 'team': 'blue', 'num_troops': 1, 'neighbors': ['G']}),\n",
       " ('I', {'block': '3', 'team': 'blue', 'num_troops': 1, 'neighbors': ['G']})]"
      ]
     },
     "execution_count": 25,
     "metadata": {},
     "output_type": "execute_result"
    }
   ],
   "source": [
    "list(trial.graph.nodes(data=True))"
   ]
  },
  {
   "cell_type": "code",
   "execution_count": 26,
   "metadata": {},
   "outputs": [
    {
     "data": {
      "text/plain": [
       "[('A', 'B'),\n",
       " ('A', 'D'),\n",
       " ('B', 'C'),\n",
       " ('B', 'E'),\n",
       " ('C', 'D'),\n",
       " ('C', 'E'),\n",
       " ('E', 'F'),\n",
       " ('F', 'G'),\n",
       " ('G', 'H'),\n",
       " ('G', 'I')]"
      ]
     },
     "execution_count": 26,
     "metadata": {},
     "output_type": "execute_result"
    }
   ],
   "source": [
    "list(trial.graph.edges)"
   ]
  },
  {
   "cell_type": "code",
   "execution_count": 28,
   "metadata": {},
   "outputs": [],
   "source": [
    "import utils.heuristics as h"
   ]
  },
  {
   "cell_type": "code",
   "execution_count": 29,
   "metadata": {},
   "outputs": [],
   "source": [
    "team = trial.teams['red']"
   ]
  },
  {
   "cell_type": "code",
   "execution_count": 30,
   "metadata": {},
   "outputs": [
    {
     "data": {
      "text/plain": [
       "{'F': 1.0, 'G': 2.0, 'A': 0.0, 'D': 1.0, 'B': 2.0}"
      ]
     },
     "execution_count": 30,
     "metadata": {},
     "output_type": "execute_result"
    }
   ],
   "source": [
    "h.BST_Heuristic(team,trial)"
   ]
  },
  {
   "cell_type": "code",
   "execution_count": 31,
   "metadata": {},
   "outputs": [
    {
     "data": {
      "text/plain": [
       "{'F': 0.16666666666666666,\n",
       " 'G': 0.3333333333333333,\n",
       " 'A': 0.0,\n",
       " 'D': 0.16666666666666666,\n",
       " 'B': 0.3333333333333333}"
      ]
     },
     "execution_count": 31,
     "metadata": {},
     "output_type": "execute_result"
    }
   ],
   "source": [
    "h.BSR_Heuristic(team,trial)"
   ]
  },
  {
   "cell_type": "code",
   "execution_count": 32,
   "metadata": {},
   "outputs": [
    {
     "data": {
      "text/plain": [
       "0.25"
      ]
     },
     "execution_count": 32,
     "metadata": {},
     "output_type": "execute_result"
    }
   ],
   "source": [
    "EdgeWin(trial.teams['blue'],trial)"
   ]
  },
  {
   "cell_type": "code",
   "execution_count": 33,
   "metadata": {},
   "outputs": [
    {
     "data": {
      "text/plain": [
       "0.75"
      ]
     },
     "execution_count": 33,
     "metadata": {},
     "output_type": "execute_result"
    }
   ],
   "source": [
    "EdgeWin(trial.teams['red'],trial)"
   ]
  },
  {
   "cell_type": "code",
   "execution_count": 35,
   "metadata": {},
   "outputs": [
    {
     "data": {
      "text/plain": [
       "5"
      ]
     },
     "execution_count": 35,
     "metadata": {},
     "output_type": "execute_result"
    }
   ],
   "source": [
    "trial.teams['red'].troops"
   ]
  },
  {
   "cell_type": "code",
   "execution_count": 36,
   "metadata": {},
   "outputs": [],
   "source": [
    "import copy"
   ]
  },
  {
   "cell_type": "code",
   "execution_count": 37,
   "metadata": {},
   "outputs": [],
   "source": [
    "new_trial = copy.deepcopy(trial)"
   ]
  },
  {
   "cell_type": "code",
   "execution_count": 40,
   "metadata": {},
   "outputs": [],
   "source": [
    "new_trial.teams['red'].addTerritory('E')"
   ]
  },
  {
   "cell_type": "code",
   "execution_count": 42,
   "metadata": {},
   "outputs": [
    {
     "data": {
      "text/plain": [
       "['F', 'G', 'A', 'D', 'B']"
      ]
     },
     "execution_count": 42,
     "metadata": {},
     "output_type": "execute_result"
    }
   ],
   "source": [
    "trial.teams['red'].territories"
   ]
  },
  {
   "cell_type": "code",
   "execution_count": 43,
   "metadata": {},
   "outputs": [
    {
     "data": {
      "text/plain": [
       "['F', 'G', 'A', 'D', 'B', 'E']"
      ]
     },
     "execution_count": 43,
     "metadata": {},
     "output_type": "execute_result"
    }
   ],
   "source": [
    "new_trial.teams['red'].territories"
   ]
  },
  {
   "cell_type": "code",
   "execution_count": 44,
   "metadata": {},
   "outputs": [
    {
     "data": {
      "text/plain": [
       "['F', 'G', 'A', 'D', 'B']"
      ]
     },
     "execution_count": 44,
     "metadata": {},
     "output_type": "execute_result"
    }
   ],
   "source": [
    "trial.getTeam('A').territories"
   ]
  },
  {
   "cell_type": "code",
   "execution_count": 45,
   "metadata": {},
   "outputs": [
    {
     "data": {
      "text/plain": [
       "['F', 'G', 'A', 'D', 'B', 'E']"
      ]
     },
     "execution_count": 45,
     "metadata": {},
     "output_type": "execute_result"
    }
   ],
   "source": [
    "new_trial.getTeam('A').territories"
   ]
  },
  {
   "cell_type": "code",
   "execution_count": null,
   "metadata": {},
   "outputs": [],
   "source": []
  }
 ],
 "metadata": {
  "kernelspec": {
   "display_name": "Python 3",
   "language": "python",
   "name": "python3"
  },
  "language_info": {
   "codemirror_mode": {
    "name": "ipython",
    "version": 3
   },
   "file_extension": ".py",
   "mimetype": "text/x-python",
   "name": "python",
   "nbconvert_exporter": "python",
   "pygments_lexer": "ipython3",
   "version": "3.7.3"
  }
 },
 "nbformat": 4,
 "nbformat_minor": 2
}
