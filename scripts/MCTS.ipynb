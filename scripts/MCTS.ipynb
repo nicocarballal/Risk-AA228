{
 "cells": [
  {
   "cell_type": "code",
   "execution_count": null,
   "id": "63e3262e",
   "metadata": {},
   "outputs": [],
   "source": [
    "from utils.game_map_class import GameMap\n",
    "from utils.game_team_class import GameTeam\n",
    "from utils.strategy_class import Strategy, RandomStrategy, RuleOfThumbStrategy, MonteCarloTreeSearchStrategy, LookaheadRolloutStrategy\n",
    "from utils.map_setup_functions import setGameBoardRandom, initializeFullRiskMap, setGameBoardRandomWithTroops\n",
    "from utils.heuristics import BST_Heuristic, EdgeWin\n",
    "from utils.MCTS import monteCarloTreeSearch, getActions"
   ]
  },
  {
   "cell_type": "code",
   "execution_count": null,
   "id": "e468e783",
   "metadata": {},
   "outputs": [],
   "source": [
    "import networkx as nx\n",
    "import matplotlib.pyplot as plt"
   ]
  },
  {
   "cell_type": "code",
   "execution_count": null,
   "id": "54253d5a",
   "metadata": {},
   "outputs": [],
   "source": [
    "import copy\n",
    "import math\n",
    "import random\n",
    "import numpy as np\n",
    "from collections import defaultdict"
   ]
  },
  {
   "cell_type": "code",
   "execution_count": null,
   "id": "643dfe86",
   "metadata": {},
   "outputs": [],
   "source": [
    "full_risk_map = initializeFullRiskMap()\n",
    "team_names = ['red', 'blue']\n",
    "team_strategies = [RuleOfThumbStrategy, MonteCarloTreeSearchStrategy]\n",
    "risk_map, teams = setGameBoardRandom(team_names, full_risk_map, team_strategies)"
   ]
  },
  {
   "cell_type": "code",
   "execution_count": null,
   "id": "bcfc16dc",
   "metadata": {},
   "outputs": [],
   "source": [
    "curr_team = teams[0]\n",
    "defending_team = teams[1]\n",
    "counter = 0\n",
    "while defending_team.hasTeamWon() == False:\n",
    "    curr_team.playTurn()\n",
    "    curr_team_temp = curr_team\n",
    "    curr_team = defending_team\n",
    "    defending_team = curr_team_temp\n",
    "    color_map = risk_map.getTeamColorMap()\n",
    "    nx.draw(risk_map.graph, node_color = color_map, with_labels=True)\n",
    "    plt.show()\n",
    "    counter += 1\n",
    "print(\"{defender} team has won in {num_turns} turns\".format(defender = defending_team.getName(), num_turns = counter // 2))"
   ]
  },
  {
   "cell_type": "code",
   "execution_count": null,
   "id": "85eaae8d",
   "metadata": {},
   "outputs": [],
   "source": [
    "\n",
    "winner_array = []\n",
    "winner_count = []\n",
    "starter_array = []\n",
    "#winner_array = np.load('winners.npy').tolist()\n",
    "\n",
    "#starter_array = np.load('starters.npy').tolist()\n",
    "for i in range(100):\n",
    "    full_risk_map = initializeFullRiskMap()\n",
    "    if i % 2 == 0:\n",
    "        team_names = [\"blue\", \"red\"]\n",
    "        team_strategies = [MonteCarloTreeSearchStrategy, LookaheadRolloutStrategy]\n",
    "        print('we start')\n",
    "        starter_array.append(\"blue\")\n",
    "    else:\n",
    "        team_names = [\"red\", \"blue\"]\n",
    "        team_strategies = [LookaheadRolloutStrategy, MonteCarloTreeSearchStrategy]\n",
    "        print('they start')\n",
    "        starter_array.append(\"red\")\n",
    "        \n",
    "    #risk_map, teams = setGameBoardRandomWithTroops(team_names, full_risk_map, team_strategies)\n",
    "    risk_map, teams = setGameBoardRandom(team_names, full_risk_map, team_strategies)\n",
    "    curr_team = teams[0]\n",
    "    defending_team = teams[1]\n",
    "    counter = 0\n",
    "    while defending_team.hasTeamWon() == False:\n",
    "        curr_team.playTurn()\n",
    "        curr_team_temp = curr_team\n",
    "        curr_team = defending_team\n",
    "        defending_team = curr_team_temp\n",
    "        color_map = risk_map.getTeamColorMap()\n",
    "        #nx.draw(risk_map.graph, node_color = color_map, with_labels=True)\n",
    "        plt.show()\n",
    "        counter += 1\n",
    "    \n",
    "    winner_array.append(defending_team.getName())\n",
    "    winner_count.append(counter // 2)\n",
    "    print(i)\n",
    "    np.save('winners.npy', np.array(winner_array))\n",
    "    np.save('starters.npy', np.array(starter_array))\n",
    "    np.save('winners_count.npy', np.array(winner_count))\n",
    "    print(\"{defender} team has won in {num_turns} turns\".format(defender = defending_team.getName(), num_turns = counter//2))\n",
    "print(winner_array)\n",
    "print(winner_count)\n",
    "print(starter_array)"
   ]
  },
  {
   "cell_type": "code",
   "execution_count": null,
   "id": "5b183160",
   "metadata": {},
   "outputs": [],
   "source": [
    "i = 0\n",
    "for winner in winner_array:\n",
    "    if winner == 'blue':\n",
    "        i += 1\n",
    "print(i)"
   ]
  },
  {
   "cell_type": "code",
   "execution_count": null,
   "id": "fca84c01",
   "metadata": {},
   "outputs": [],
   "source": [
    "winners = np.array(winner_array)\n",
    "starters = np.array(starter_array)\n",
    "counts = np.array(winner_count)\n",
    "\n",
    "red = counts[np.where(winners == 'red')[0]]\n",
    "blue = counts[np.where(winners == 'blue')[0]]\n",
    "bins = np.linspace(3, 20, 17)\n",
    "\n",
    "MATLAB_blue = [0, 0.4470, 0.7410]\n",
    "MATLAB_orange = [0.8500, 0.3250, 0.0980]\n",
    "\n",
    "plt.hist(red, bins, label='red', facecolor = MATLAB_orange, alpha = .75)\n",
    "plt.hist(blue, bins, label='blue', facecolor = MATLAB_blue, alpha = .75)\n",
    "\n",
    "import matplotlib as mpl\n",
    "mpl.rc('font',family='Times New Roman')\n",
    "\n",
    "font_size = 12\n",
    "plt.xlabel('Number of turns until victory', fontsize = font_size)\n",
    "plt.ylabel('Number of Occurrences', fontsize = font_size)\n",
    "plt.title('Victories over 100 simulations', fontsize = font_size + 5)\n",
    "plt.legend({'Rule of Thumb', 'Monte Carlo Tree Search'}, prop={'size': font_size})\n",
    "plt.savefig(\"./../images/rule-vs-mcts.png\")"
   ]
  },
  {
   "cell_type": "code",
   "execution_count": null,
   "id": "1f33ba37",
   "metadata": {},
   "outputs": [],
   "source": [
    "sum = 0\n",
    "for count in counts[np.where(winners == 'red')[0]]:\n",
    "    sum += count\n",
    "total = len(counts[np.where(winners == 'red')[0]])\n",
    "print(total)\n",
    "print(sum / total)"
   ]
  },
  {
   "cell_type": "code",
   "execution_count": null,
   "id": "decd7468",
   "metadata": {},
   "outputs": [],
   "source": []
  }
 ],
 "metadata": {
  "kernelspec": {
   "display_name": "Python 3 (ipykernel)",
   "language": "python",
   "name": "python3"
  },
  "language_info": {
   "codemirror_mode": {
    "name": "ipython",
    "version": 3
   },
   "file_extension": ".py",
   "mimetype": "text/x-python",
   "name": "python",
   "nbconvert_exporter": "python",
   "pygments_lexer": "ipython3",
   "version": "3.8.10"
  }
 },
 "nbformat": 4,
 "nbformat_minor": 5
}
