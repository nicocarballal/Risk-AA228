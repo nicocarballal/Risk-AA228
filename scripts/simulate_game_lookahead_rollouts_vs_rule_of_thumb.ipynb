{
 "cells": [
  {
   "cell_type": "markdown",
   "metadata": {},
   "source": [
    "# Simulate Random Game"
   ]
  },
  {
   "cell_type": "markdown",
   "metadata": {},
   "source": [
    "<div class=\"alert alert-block alert-info\">\n",
    "<b>Imports:</b> Import all of the classes and useful functions for game initialization\n",
    "</div>"
   ]
  },
  {
   "cell_type": "code",
   "execution_count": 10,
   "metadata": {},
   "outputs": [],
   "source": [
    "from utils.game_map_class import GameMap\n",
    "from utils.game_team_class import GameTeam\n",
    "from utils.strategy_class import Strategy, RandomStrategy, RuleOfThumbStrategy, LookaheadRolloutStrategy\n",
    "from utils.map_setup_functions import setGameBoardRandom, setGameBoardRandomWithTroops, initializeFullRiskMap\n",
    "from utils.heuristics import BST_Heuristic, EdgeWin, Countries_Heuristic, BSR_Heuristic"
   ]
  },
  {
   "cell_type": "code",
   "execution_count": 2,
   "metadata": {},
   "outputs": [],
   "source": [
    "import networkx as nx\n",
    "import matplotlib.pyplot as plt"
   ]
  },
  {
   "cell_type": "markdown",
   "metadata": {},
   "source": [
    "<div class=\"alert alert-block alert-info\">\n",
    "<b>Initialization:</b> Initialize the Game of Risk using the functions from map_setup_functions.py. Our team names are \"red\" and \"blue\", and they will randomly split the countries on the RISK map. Each territory will only start with 1 troop. In addition, we call the RandomStrategy subclass to tell each team that they will play using a RandomStrategy!\n",
    "</div>\n"
   ]
  },
  {
   "cell_type": "code",
   "execution_count": 3,
   "metadata": {},
   "outputs": [],
   "source": [
    "full_risk_map = initializeFullRiskMap()\n",
    "team_names = [\"red\", \"blue\"]\n",
    "team_strategies = [RuleOfThumbStrategy, LookaheadRolloutStrategy]\n",
    "risk_map, teams = setGameBoardRandom(team_names, full_risk_map, team_strategies)\n",
    "#risk_map, teams = setGameBoardRandom(team_names, full_risk_map, RandomStrategy)"
   ]
  },
  {
   "cell_type": "markdown",
   "metadata": {},
   "source": [
    "<div class=\"alert alert-block alert-warning\">\n",
    "<b>Territories: </b> Let us see what our kind of territories our teams have \n",
    "</div>"
   ]
  },
  {
   "cell_type": "code",
   "execution_count": 4,
   "metadata": {},
   "outputs": [
    {
     "data": {
      "text/plain": [
       "['Alberta', 'Argentina', 'Japan', 'Central America', 'Mongolia']"
      ]
     },
     "execution_count": 4,
     "metadata": {},
     "output_type": "execute_result"
    }
   ],
   "source": [
    "teams[0].getTerritories()[0:5]"
   ]
  },
  {
   "cell_type": "markdown",
   "metadata": {},
   "source": [
    "<div class=\"alert alert-block alert-warning\">\n",
    "<b>Adding Troops: </b> What happens if we add a troop to the first teams first territory? We will see that the RISK Map updates that country with one more troop! \n",
    "</div>"
   ]
  },
  {
   "cell_type": "code",
   "execution_count": 5,
   "metadata": {},
   "outputs": [],
   "source": [
    "#teams[0].addTroops(teams[0].getTerritories()[0], 1)\n",
    "#print('{territory} now has {x} troops!'.format(territory = teams[0].getTerritories()[0], x = risk_map.getTroops(teams[0].getTerritories()[0])))"
   ]
  },
  {
   "cell_type": "markdown",
   "metadata": {},
   "source": [
    "<div class=\"alert alert-block alert-warning\">\n",
    "    <b>Get Next Move: </b> Now, only one territory has more than 1 troop, so that will be the only territory that can make a next move (even in a random strategy!). This calls the strategy asking what move it should make. If getNextMove() returns nothing, that means that the territory is completely surrounded by its own team. Try adding troops to another country.\n",
    "</div>"
   ]
  },
  {
   "cell_type": "code",
   "execution_count": 6,
   "metadata": {},
   "outputs": [],
   "source": [
    "#teams[0].getStrategy().addTroopsTurn(3)\n",
    "#teams[0].getNextMove()"
   ]
  },
  {
   "cell_type": "markdown",
   "metadata": {},
   "source": [
    "<div class=\"alert alert-block alert-warning\">\n",
    "<b>Determine and Make Next Move: </b> This will call the strategies getNextMove() function and make that move (including the actual attack!)\n",
    "</div>"
   ]
  },
  {
   "cell_type": "code",
   "execution_count": 7,
   "metadata": {},
   "outputs": [],
   "source": [
    "#teams[0].determineAndMakeMove()"
   ]
  },
  {
   "cell_type": "markdown",
   "metadata": {},
   "source": [
    "<div class=\"alert alert-block alert-warning\">\n",
    "<b>Play Turn: </b> This plays a complete turn (of potentailly multiple moves) according to a country's Strategy! \n",
    "</div>"
   ]
  },
  {
   "cell_type": "code",
   "execution_count": 8,
   "metadata": {},
   "outputs": [],
   "source": [
    "#teams[0].playTurn()"
   ]
  },
  {
   "cell_type": "markdown",
   "metadata": {},
   "source": [
    "<div class=\"alert alert-block alert-warning\">\n",
    "<b>Simulate Game: </b> This simulates a complete game between a Rule of Thumb Strategy and Random Strategy!\n",
    "</div>"
   ]
  },
  {
   "cell_type": "code",
   "execution_count": 9,
   "metadata": {},
   "outputs": [
    {
     "ename": "AttributeError",
     "evalue": "'NoneType' object has no attribute 'playTurn'",
     "output_type": "error",
     "traceback": [
      "\u001b[1;31m---------------------------------------------------------------------------\u001b[0m",
      "\u001b[1;31mAttributeError\u001b[0m                            Traceback (most recent call last)",
      "\u001b[1;32m~\\AppData\\Local\\Temp/ipykernel_21688/1236356770.py\u001b[0m in \u001b[0;36m<module>\u001b[1;34m\u001b[0m\n\u001b[0;32m      3\u001b[0m \u001b[0mcounter\u001b[0m \u001b[1;33m=\u001b[0m \u001b[1;36m0\u001b[0m\u001b[1;33m\u001b[0m\u001b[1;33m\u001b[0m\u001b[0m\n\u001b[0;32m      4\u001b[0m \u001b[1;32mwhile\u001b[0m \u001b[0mdefending_team\u001b[0m\u001b[1;33m.\u001b[0m\u001b[0mhasTeamWon\u001b[0m\u001b[1;33m(\u001b[0m\u001b[1;33m)\u001b[0m \u001b[1;33m==\u001b[0m \u001b[1;32mFalse\u001b[0m\u001b[1;33m:\u001b[0m\u001b[1;33m\u001b[0m\u001b[1;33m\u001b[0m\u001b[0m\n\u001b[1;32m----> 5\u001b[1;33m     \u001b[0mcurr_team\u001b[0m\u001b[1;33m.\u001b[0m\u001b[0mplayTurn\u001b[0m\u001b[1;33m(\u001b[0m\u001b[1;33m)\u001b[0m\u001b[1;33m\u001b[0m\u001b[1;33m\u001b[0m\u001b[0m\n\u001b[0m\u001b[0;32m      6\u001b[0m     \u001b[0mcurr_team_temp\u001b[0m \u001b[1;33m=\u001b[0m \u001b[0mcurr_team\u001b[0m\u001b[1;33m\u001b[0m\u001b[1;33m\u001b[0m\u001b[0m\n\u001b[0;32m      7\u001b[0m     \u001b[0mcurr_team\u001b[0m \u001b[1;33m=\u001b[0m \u001b[0mdefending_team\u001b[0m\u001b[1;33m\u001b[0m\u001b[1;33m\u001b[0m\u001b[0m\n",
      "\u001b[1;32m~\\Desktop\\Stanford\\OneDrive - Stanford\\Courses\\AA228\\Risk-AA228\\scripts\\utils\\game_team_class.py\u001b[0m in \u001b[0;36mplayTurn\u001b[1;34m(self, print_, depth_)\u001b[0m\n\u001b[0;32m    154\u001b[0m         \u001b[0mPlay\u001b[0m \u001b[0ma\u001b[0m \u001b[0mturn\u001b[0m \u001b[0maccording\u001b[0m \u001b[0mto\u001b[0m \u001b[0myour\u001b[0m \u001b[0mstrategy\u001b[0m\u001b[1;33m\u001b[0m\u001b[1;33m\u001b[0m\u001b[0m\n\u001b[0;32m    155\u001b[0m         '''\n\u001b[1;32m--> 156\u001b[1;33m         \u001b[1;32mreturn\u001b[0m \u001b[0mself\u001b[0m\u001b[1;33m.\u001b[0m\u001b[0mstrategy\u001b[0m\u001b[1;33m.\u001b[0m\u001b[0mplayTurn\u001b[0m\u001b[1;33m(\u001b[0m\u001b[0mprint_\u001b[0m \u001b[1;33m=\u001b[0m \u001b[0mprint_\u001b[0m\u001b[1;33m,\u001b[0m \u001b[0mdepth_\u001b[0m \u001b[1;33m=\u001b[0m \u001b[0mdepth_\u001b[0m\u001b[1;33m)\u001b[0m\u001b[1;33m\u001b[0m\u001b[1;33m\u001b[0m\u001b[0m\n\u001b[0m\u001b[0;32m    157\u001b[0m \u001b[1;33m\u001b[0m\u001b[0m\n\u001b[0;32m    158\u001b[0m     \u001b[1;32mdef\u001b[0m \u001b[0mgetNextMove\u001b[0m\u001b[1;33m(\u001b[0m\u001b[0mself\u001b[0m\u001b[1;33m,\u001b[0m \u001b[0mprint_\u001b[0m \u001b[1;33m=\u001b[0m \u001b[1;32mFalse\u001b[0m\u001b[1;33m,\u001b[0m \u001b[0mdepth_\u001b[0m \u001b[1;33m=\u001b[0m \u001b[1;32mFalse\u001b[0m\u001b[1;33m)\u001b[0m\u001b[1;33m:\u001b[0m\u001b[1;33m\u001b[0m\u001b[1;33m\u001b[0m\u001b[0m\n",
      "\u001b[1;31mAttributeError\u001b[0m: 'NoneType' object has no attribute 'playTurn'"
     ]
    }
   ],
   "source": [
    "curr_team = teams[0]\n",
    "defending_team = teams[1]\n",
    "counter = 0\n",
    "while defending_team.hasTeamWon() == False:\n",
    "    curr_team.playTurn()\n",
    "    curr_team_temp = curr_team\n",
    "    curr_team = defending_team\n",
    "    defending_team = curr_team_temp\n",
    "    color_map = risk_map.getTeamColorMap()\n",
    "    nx.draw(risk_map.graph, node_color = color_map, with_labels=True)\n",
    "    plt.show()\n",
    "    counter += 1\n",
    "    \n",
    "print(\"{defender} team has won in {num_turns} turns\".format(defender = defending_team.getName(), num_turns = counter//2))\n",
    "    \n",
    "    \n",
    "    "
   ]
  },
  {
   "cell_type": "code",
   "execution_count": 11,
   "metadata": {},
   "outputs": [],
   "source": [
    "import numpy as np"
   ]
  },
  {
   "cell_type": "code",
   "execution_count": 13,
   "metadata": {},
   "outputs": [],
   "source": [
    "%%capture\n",
    "import random\n",
    "winner_array = []\n",
    "winner_count = []\n",
    "starter_array = []\n",
    "\n",
    "winner_array = np.load('winners-lookahead-edge-vs-countries.npy').tolist()\n",
    "starter_array = np.load('starters-lookahead-edge-vs-countries.npy').tolist()\n",
    "winner_count = np.load('winners_count-lookahead-edge-vs-countries.npy').tolist()\n",
    "\n",
    "for _ in range(65):\n",
    "    full_risk_map = initializeFullRiskMap()\n",
    "    if random.choice([0, 1]) == 0:\n",
    "        team_names = [\"blue\", \"red\"]\n",
    "        team_strategies = [LookaheadRolloutStrategy, LookaheadRolloutStrategy]\n",
    "        heuristics = [EdgeWin, Countries_Heuristic]\n",
    "        starter_array.append(\"blue\")\n",
    "    else:\n",
    "        team_names = [\"red\", \"blue\"]\n",
    "        team_strategies = [LookaheadRolloutStrategy, LookaheadRolloutStrategy]\n",
    "        heuristics = [Countries_Heuristic, EdgeWin]\n",
    "        starter_array.append(\"red\")\n",
    "        \n",
    "    risk_map, teams = setGameBoardRandomWithTroops(team_names, full_risk_map,  heuristics, team_strategies)\n",
    "    #risk_map, teams = setGameBoardRandom(team_names, full_risk_map, RandomStrategy)\n",
    "    curr_team = teams[0]\n",
    "    defending_team = teams[1]\n",
    "    counter = 0\n",
    "    winner = True\n",
    "    while defending_team.hasTeamWon() == False:\n",
    "        curr_team.playTurn(depth_ = 4)\n",
    "        curr_team_temp = curr_team\n",
    "        curr_team = defending_team\n",
    "        defending_team = curr_team_temp\n",
    "        '''\n",
    "        color_map = risk_map.getTeamColorMap()\n",
    "        nx.draw(risk_map.graph, node_color = color_map, pos = pos, with_labels=True)\n",
    "        plt.show()\n",
    "        '''\n",
    "        counter += 1\n",
    "        if counter > 50:\n",
    "            winner = False\n",
    "            break\n",
    "    if not winner:\n",
    "        continue\n",
    "    winner_array.append(defending_team.getName())\n",
    "    winner_count.append(counter // 2)\n",
    "    \n",
    "    np.save('winners-lookahead-edge-vs-countries.npy', np.array(winner_array))\n",
    "    np.save('starters-lookahead-edge-vs-countries.npy', np.array(starter_array))\n",
    "    np.save('winners_count-lookahead-edge-vs-countries.npy', np.array(winner_count))\n",
    "    print(\"{defender} team has won in {num_turns} turns\".format(defender = defending_team.getName(), num_turns = counter//2))\n",
    "    \n",
    "    \n",
    "    "
   ]
  },
  {
   "cell_type": "code",
   "execution_count": null,
   "metadata": {},
   "outputs": [],
   "source": [
    "setGameBoardRandomWithTroops"
   ]
  }
 ],
 "metadata": {
  "kernelspec": {
   "display_name": "Python 3 (ipykernel)",
   "language": "python",
   "name": "python3"
  },
  "language_info": {
   "codemirror_mode": {
    "name": "ipython",
    "version": 3
   },
   "file_extension": ".py",
   "mimetype": "text/x-python",
   "name": "python",
   "nbconvert_exporter": "python",
   "pygments_lexer": "ipython3",
   "version": "3.9.5"
  }
 },
 "nbformat": 4,
 "nbformat_minor": 2
}
