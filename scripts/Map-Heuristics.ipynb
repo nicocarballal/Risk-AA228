{
 "cells": [
  {
   "cell_type": "code",
   "execution_count": 1,
   "id": "2b1ab7c0",
   "metadata": {},
   "outputs": [],
   "source": [
    "from utils.game_map_class import GameMap"
   ]
  },
  {
   "cell_type": "code",
   "execution_count": 2,
   "id": "7af6bd09",
   "metadata": {},
   "outputs": [],
   "source": [
    "import networkx as nx"
   ]
  },
  {
   "cell_type": "code",
   "execution_count": null,
   "id": "26b18621",
   "metadata": {},
   "outputs": [],
   "source": []
  }
 ],
 "metadata": {
  "kernelspec": {
   "display_name": "Python 3 (ipykernel)",
   "language": "python",
   "name": "python3"
  },
  "language_info": {
   "codemirror_mode": {
    "name": "ipython",
    "version": 3
   },
   "file_extension": ".py",
   "mimetype": "text/x-python",
   "name": "python",
   "nbconvert_exporter": "python",
   "pygments_lexer": "ipython3",
   "version": "3.9.5"
  }
 },
 "nbformat": 4,
 "nbformat_minor": 5
}
